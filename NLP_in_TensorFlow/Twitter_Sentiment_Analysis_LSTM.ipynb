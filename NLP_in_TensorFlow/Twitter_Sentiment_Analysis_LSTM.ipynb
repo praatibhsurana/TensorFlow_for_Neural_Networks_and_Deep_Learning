{
  "nbformat": 4,
  "nbformat_minor": 0,
  "metadata": {
    "accelerator": "GPU",
    "colab": {
      "name": "NLP Course - Week 3 Exercise Question.ipynb",
      "provenance": []
    },
    "kernelspec": {
      "display_name": "Python 3",
      "name": "python3"
    }
  },
  "cells": [
    {
      "cell_type": "code",
      "metadata": {
        "id": "zX4Kg8DUTKWO",
        "colab_type": "code",
        "colab": {}
      },
      "source": [
        "#@title Licensed under the Apache License, Version 2.0 (the \"License\");\n",
        "# you may not use this file except in compliance with the License.\n",
        "# You may obtain a copy of the License at\n",
        "#\n",
        "# https://www.apache.org/licenses/LICENSE-2.0\n",
        "#\n",
        "# Unless required by applicable law or agreed to in writing, software\n",
        "# distributed under the License is distributed on an \"AS IS\" BASIS,\n",
        "# WITHOUT WARRANTIES OR CONDITIONS OF ANY KIND, either express or implied.\n",
        "# See the License for the specific language governing permissions and\n",
        "# limitations under the License."
      ],
      "execution_count": null,
      "outputs": []
    },
    {
      "cell_type": "code",
      "metadata": {
        "colab_type": "code",
        "id": "hmA6EzkQJ5jt",
        "colab": {}
      },
      "source": [
        "import json\n",
        "import tensorflow as tf\n",
        "import csv\n",
        "import random\n",
        "import numpy as np\n",
        "\n",
        "from tensorflow.keras.preprocessing.text import Tokenizer\n",
        "from tensorflow.keras.preprocessing.sequence import pad_sequences\n",
        "from tensorflow.keras.utils import to_categorical\n",
        "from tensorflow.keras import regularizers\n",
        "\n",
        "# Initializing required parameters\n",
        "embedding_dim = 100\n",
        "max_length = 16\n",
        "trunc_type='post'\n",
        "padding_type='post'\n",
        "oov_tok = \"<OOV>\"\n",
        "training_size=160000\n",
        "test_portion=.1\n",
        "\n",
        "corpus = []\n"
      ],
      "execution_count": 17,
      "outputs": []
    },
    {
      "cell_type": "code",
      "metadata": {
        "colab_type": "code",
        "id": "bM0l_dORKqE0",
        "colab": {
          "base_uri": "https://localhost:8080/",
          "height": 208
        },
        "outputId": "0fec37e4-1b20-4b32-8ded-fb65d1399a79"
      },
      "source": [
        "# Note that I cleaned the Stanford dataset to remove LATIN1 encoding to make it easier for Python CSV reader\n",
        "# You can do that yourself with:\n",
        "# iconv -f LATIN1 -t UTF8 training.1600000.processed.noemoticon.csv -o training_cleaned.csv\n",
        "# I then hosted it on my site to make it easier to use in this notebook\n",
        "# Loading dataset containing tweets labelled as positive, negative or neutral \n",
        "\n",
        "!wget --no-check-certificate \\\n",
        "    https://storage.googleapis.com/laurencemoroney-blog.appspot.com/training_cleaned.csv \\\n",
        "    -O /tmp/training_cleaned.csv\n",
        "\n",
        "num_sentences = 0\n",
        "\n",
        "with open(\"/tmp/training_cleaned.csv\") as csvfile:\n",
        "    reader = csv.reader(csvfile, delimiter=',')\n",
        "    for row in reader:\n",
        "        list_item=[]\n",
        "        list_item.append(row[5])\n",
        "        this_label=row[0]\n",
        "        if this_label=='0':\n",
        "            list_item.append(0)\n",
        "        else: # This is because the dataset has labels set as 0 -> negative, 2 -> neutral and 4 -> positive\n",
        "            list_item.append(1)\n",
        "        \n",
        "        num_sentences = num_sentences + 1\n",
        "        corpus.append(list_item)\n"
      ],
      "execution_count": 19,
      "outputs": [
        {
          "output_type": "stream",
          "text": [
            "--2020-06-27 15:40:31--  https://storage.googleapis.com/laurencemoroney-blog.appspot.com/training_cleaned.csv\n",
            "Resolving storage.googleapis.com (storage.googleapis.com)... 173.194.79.128, 108.177.119.128, 108.177.126.128, ...\n",
            "Connecting to storage.googleapis.com (storage.googleapis.com)|173.194.79.128|:443... connected.\n",
            "HTTP request sent, awaiting response... 200 OK\n",
            "Length: 238942690 (228M) [application/octet-stream]\n",
            "Saving to: ‘/tmp/training_cleaned.csv’\n",
            "\n",
            "/tmp/training_clean 100%[===================>] 227.87M   123MB/s    in 1.9s    \n",
            "\n",
            "2020-06-27 15:40:33 (123 MB/s) - ‘/tmp/training_cleaned.csv’ saved [238942690/238942690]\n",
            "\n"
          ],
          "name": "stdout"
        }
      ]
    },
    {
      "cell_type": "code",
      "metadata": {
        "colab_type": "code",
        "id": "3kxblBUjEUX-",
        "colab": {
          "base_uri": "https://localhost:8080/",
          "height": 69
        },
        "outputId": "98613840-dd35-4db6-9bf3-317d8d6d350e"
      },
      "source": [
        "print(num_sentences)\n",
        "print(len(corpus))\n",
        "print(corpus[1])\n",
        "\n",
        "# Expected Output:\n",
        "# 1600000\n",
        "# 1600000\n",
        "# [\"is upset that he can't update his Facebook by texting it... and might cry as a result  School today also. Blah!\", 0]"
      ],
      "execution_count": 20,
      "outputs": [
        {
          "output_type": "stream",
          "text": [
            "1600000\n",
            "1600000\n",
            "[\"is upset that he can't update his Facebook by texting it... and might cry as a result  School today also. Blah!\", 0]\n"
          ],
          "name": "stdout"
        }
      ]
    },
    {
      "cell_type": "code",
      "metadata": {
        "colab_type": "code",
        "id": "ohOGz24lsNAD",
        "colab": {}
      },
      "source": [
        "sentences=[]\n",
        "labels=[]\n",
        "random.shuffle(corpus)\n",
        "for x in range(training_size):\n",
        "    sentences.append(corpus[x][0])\n",
        "    labels.append(corpus[x][1])\n",
        "\n",
        "# Tokenizing words\n",
        "tokenizer = Tokenizer()\n",
        "tokenizer.fit_on_texts(sentences)\n",
        "\n",
        "word_index = tokenizer.word_index\n",
        "vocab_size=len(word_index)\n",
        "\n",
        "sequences = tokenizer.texts_to_sequences(sentences)\n",
        "padded = pad_sequences(sequences, maxlen=max_length, padding=padding_type, truncating=trunc_type)\n",
        "\n",
        "split = int(test_portion * training_size)\n",
        "\n",
        "test_sequences = padded[0:split]\n",
        "training_sequences = padded[split:training_size]\n",
        "test_labels = labels[0:split]\n",
        "training_labels = labels[split:training_size]\n",
        "\n",
        "# Converting to numpy arrays\n",
        "test_sequences_set = np.asarray(test_sequences)\n",
        "training_sequences_set = np.asarray(training_sequences)\n",
        "test_labels_set = np.asarray(test_labels)\n",
        "training_labels_set = np.asarray(training_labels)"
      ],
      "execution_count": 26,
      "outputs": []
    },
    {
      "cell_type": "code",
      "metadata": {
        "colab_type": "code",
        "id": "gIrtRem1En3N",
        "colab": {
          "base_uri": "https://localhost:8080/",
          "height": 52
        },
        "outputId": "1db5d400-6a3c-4c57-8f4b-ff13361d618b"
      },
      "source": [
        "print(vocab_size)\n",
        "print(word_index['i'])\n",
        "# Expected Output\n",
        "# 138858\n",
        "# 1"
      ],
      "execution_count": 22,
      "outputs": [
        {
          "output_type": "stream",
          "text": [
            "138900\n",
            "1\n"
          ],
          "name": "stdout"
        }
      ]
    },
    {
      "cell_type": "code",
      "metadata": {
        "colab_type": "code",
        "id": "C1zdgJkusRh0",
        "colab": {
          "base_uri": "https://localhost:8080/",
          "height": 208
        },
        "outputId": "88df6726-c7d8-4efa-e2fa-6baf7b02c9c1"
      },
      "source": [
        "# Note this is the 100 dimension version of GloVe from Stanford\n",
        "# I unzipped and hosted it on my site to make this notebook easier\n",
        "!wget --no-check-certificate \\\n",
        "    https://storage.googleapis.com/laurencemoroney-blog.appspot.com/glove.6B.100d.txt \\\n",
        "    -O /tmp/glove.6B.100d.txt\n",
        "embeddings_index = {};\n",
        "with open('/tmp/glove.6B.100d.txt') as f:\n",
        "    for line in f:\n",
        "        values = line.split();\n",
        "        word = values[0];\n",
        "        coefs = np.asarray(values[1:], dtype='float32');\n",
        "        embeddings_index[word] = coefs;\n",
        "\n",
        "embeddings_matrix = np.zeros((vocab_size+1, embedding_dim)); # Declaring matrix to store tokens obtained from glove vector\n",
        "for word, i in word_index.items():\n",
        "    embedding_vector = embeddings_index.get(word); # Getting token for each word\n",
        "    if embedding_vector is not None:\n",
        "        embeddings_matrix[i] = embedding_vector; # Appending to matrix"
      ],
      "execution_count": 27,
      "outputs": [
        {
          "output_type": "stream",
          "text": [
            "--2020-06-27 15:43:26--  https://storage.googleapis.com/laurencemoroney-blog.appspot.com/glove.6B.100d.txt\n",
            "Resolving storage.googleapis.com (storage.googleapis.com)... 108.177.119.128, 108.177.126.128, 2a00:1450:4013:c00::80\n",
            "Connecting to storage.googleapis.com (storage.googleapis.com)|108.177.119.128|:443... connected.\n",
            "HTTP request sent, awaiting response... 200 OK\n",
            "Length: 347116733 (331M) [text/plain]\n",
            "Saving to: ‘/tmp/glove.6B.100d.txt’\n",
            "\n",
            "/tmp/glove.6B.100d. 100%[===================>] 331.04M   125MB/s    in 2.6s    \n",
            "\n",
            "2020-06-27 15:43:28 (125 MB/s) - ‘/tmp/glove.6B.100d.txt’ saved [347116733/347116733]\n",
            "\n"
          ],
          "name": "stdout"
        }
      ]
    },
    {
      "cell_type": "code",
      "metadata": {
        "colab_type": "code",
        "id": "71NLk_lpFLNt",
        "colab": {
          "base_uri": "https://localhost:8080/",
          "height": 35
        },
        "outputId": "a2ac1db8-ea05-4b44-b4c8-f7cc306d3209"
      },
      "source": [
        "print(len(embeddings_matrix))\n",
        "# Expected Output\n",
        "# 138859"
      ],
      "execution_count": 24,
      "outputs": [
        {
          "output_type": "stream",
          "text": [
            "138901\n"
          ],
          "name": "stdout"
        }
      ]
    },
    {
      "cell_type": "code",
      "metadata": {
        "colab_type": "code",
        "id": "iKKvbuEBOGFz",
        "colab": {
          "base_uri": "https://localhost:8080/",
          "height": 1000
        },
        "outputId": "52e5d92d-1f0a-4331-eb38-625f02dba746"
      },
      "source": [
        "model = tf.keras.Sequential([\n",
        "    tf.keras.layers.Embedding(vocab_size+1, embedding_dim, input_length=max_length, weights=[embeddings_matrix], trainable=False),\n",
        "    tf.keras.layers.Dropout(0.2),\n",
        "    tf.keras.layers.Conv1D(64, 5, activation='relu'),\n",
        "    tf.keras.layers.MaxPooling1D(pool_size=4),\n",
        "    tf.keras.layers.LSTM(64),\n",
        "    tf.keras.layers.Dense(1, activation='sigmoid')\n",
        "])\n",
        "model.compile(loss='binary_crossentropy',optimizer='adam',metrics=['accuracy'])\n",
        "model.summary()\n",
        "\n",
        "num_epochs = 50\n",
        "history = model.fit(training_sequences_set, training_labels_set, epochs=num_epochs, validation_data=(test_sequences_set, test_labels_set), verbose=2)\n",
        "\n",
        "print(\"Training Complete\")\n"
      ],
      "execution_count": 28,
      "outputs": [
        {
          "output_type": "stream",
          "text": [
            "Model: \"sequential_5\"\n",
            "_________________________________________________________________\n",
            "Layer (type)                 Output Shape              Param #   \n",
            "=================================================================\n",
            "embedding_5 (Embedding)      (None, 16, 100)           13873700  \n",
            "_________________________________________________________________\n",
            "dropout_5 (Dropout)          (None, 16, 100)           0         \n",
            "_________________________________________________________________\n",
            "conv1d_5 (Conv1D)            (None, 12, 64)            32064     \n",
            "_________________________________________________________________\n",
            "max_pooling1d_3 (MaxPooling1 (None, 3, 64)             0         \n",
            "_________________________________________________________________\n",
            "lstm_5 (LSTM)                (None, 64)                33024     \n",
            "_________________________________________________________________\n",
            "dense_7 (Dense)              (None, 1)                 65        \n",
            "=================================================================\n",
            "Total params: 13,938,853\n",
            "Trainable params: 65,153\n",
            "Non-trainable params: 13,873,700\n",
            "_________________________________________________________________\n",
            "Epoch 1/50\n",
            "4500/4500 - 16s - loss: 0.5670 - accuracy: 0.6999 - val_loss: 0.5268 - val_accuracy: 0.7324\n",
            "Epoch 2/50\n",
            "4500/4500 - 16s - loss: 0.5266 - accuracy: 0.7316 - val_loss: 0.5146 - val_accuracy: 0.7450\n",
            "Epoch 3/50\n",
            "4500/4500 - 16s - loss: 0.5103 - accuracy: 0.7445 - val_loss: 0.5057 - val_accuracy: 0.7484\n",
            "Epoch 4/50\n",
            "4500/4500 - 16s - loss: 0.4987 - accuracy: 0.7517 - val_loss: 0.5035 - val_accuracy: 0.7473\n",
            "Epoch 5/50\n",
            "4500/4500 - 16s - loss: 0.4899 - accuracy: 0.7584 - val_loss: 0.5041 - val_accuracy: 0.7513\n",
            "Epoch 6/50\n",
            "4500/4500 - 16s - loss: 0.4830 - accuracy: 0.7613 - val_loss: 0.5049 - val_accuracy: 0.7509\n",
            "Epoch 7/50\n",
            "4500/4500 - 16s - loss: 0.4766 - accuracy: 0.7664 - val_loss: 0.5044 - val_accuracy: 0.7548\n",
            "Epoch 8/50\n",
            "4500/4500 - 16s - loss: 0.4708 - accuracy: 0.7699 - val_loss: 0.5102 - val_accuracy: 0.7529\n",
            "Epoch 9/50\n",
            "4500/4500 - 16s - loss: 0.4670 - accuracy: 0.7720 - val_loss: 0.5037 - val_accuracy: 0.7519\n",
            "Epoch 10/50\n",
            "4500/4500 - 16s - loss: 0.4632 - accuracy: 0.7744 - val_loss: 0.5077 - val_accuracy: 0.7519\n",
            "Epoch 11/50\n",
            "4500/4500 - 16s - loss: 0.4594 - accuracy: 0.7776 - val_loss: 0.5063 - val_accuracy: 0.7510\n",
            "Epoch 12/50\n",
            "4500/4500 - 16s - loss: 0.4557 - accuracy: 0.7792 - val_loss: 0.5145 - val_accuracy: 0.7512\n",
            "Epoch 13/50\n",
            "4500/4500 - 16s - loss: 0.4531 - accuracy: 0.7809 - val_loss: 0.5021 - val_accuracy: 0.7547\n",
            "Epoch 14/50\n",
            "Epoch 15/50\n",
            "4500/4500 - 16s - loss: 0.4492 - accuracy: 0.7826 - val_loss: 0.5119 - val_accuracy: 0.7502\n",
            "Epoch 16/50\n",
            "4500/4500 - 16s - loss: 0.4473 - accuracy: 0.7844 - val_loss: 0.5053 - val_accuracy: 0.7525\n",
            "Epoch 17/50\n",
            "4500/4500 - 17s - loss: 0.4443 - accuracy: 0.7853 - val_loss: 0.5099 - val_accuracy: 0.7492\n",
            "Epoch 18/50\n",
            "4500/4500 - 16s - loss: 0.4431 - accuracy: 0.7868 - val_loss: 0.5171 - val_accuracy: 0.7546\n",
            "Epoch 19/50\n",
            "4500/4500 - 16s - loss: 0.4414 - accuracy: 0.7879 - val_loss: 0.5083 - val_accuracy: 0.7527\n",
            "Epoch 20/50\n",
            "4500/4500 - 16s - loss: 0.4395 - accuracy: 0.7897 - val_loss: 0.5164 - val_accuracy: 0.7541\n",
            "Epoch 21/50\n",
            "4500/4500 - 16s - loss: 0.4402 - accuracy: 0.7883 - val_loss: 0.5149 - val_accuracy: 0.7531\n",
            "Epoch 22/50\n",
            "4500/4500 - 16s - loss: 0.4381 - accuracy: 0.7889 - val_loss: 0.5098 - val_accuracy: 0.7524\n",
            "Epoch 23/50\n",
            "4500/4500 - 16s - loss: 0.4376 - accuracy: 0.7916 - val_loss: 0.5118 - val_accuracy: 0.7537\n",
            "Epoch 24/50\n",
            "4500/4500 - 16s - loss: 0.4356 - accuracy: 0.7910 - val_loss: 0.5150 - val_accuracy: 0.7527\n",
            "Epoch 25/50\n",
            "4500/4500 - 16s - loss: 0.4349 - accuracy: 0.7912 - val_loss: 0.5238 - val_accuracy: 0.7469\n",
            "Epoch 26/50\n",
            "4500/4500 - 16s - loss: 0.4327 - accuracy: 0.7922 - val_loss: 0.5129 - val_accuracy: 0.7501\n",
            "Epoch 27/50\n",
            "4500/4500 - 16s - loss: 0.4333 - accuracy: 0.7935 - val_loss: 0.5185 - val_accuracy: 0.7483\n",
            "Epoch 28/50\n",
            "4500/4500 - 16s - loss: 0.4326 - accuracy: 0.7930 - val_loss: 0.5183 - val_accuracy: 0.7502\n",
            "Epoch 29/50\n",
            "4500/4500 - 16s - loss: 0.4322 - accuracy: 0.7931 - val_loss: 0.5176 - val_accuracy: 0.7511\n",
            "Epoch 30/50\n",
            "4500/4500 - 16s - loss: 0.4330 - accuracy: 0.7929 - val_loss: 0.5202 - val_accuracy: 0.7481\n",
            "Epoch 31/50\n",
            "4500/4500 - 16s - loss: 0.4313 - accuracy: 0.7937 - val_loss: 0.5174 - val_accuracy: 0.7514\n",
            "Epoch 32/50\n",
            "4500/4500 - 16s - loss: 0.4288 - accuracy: 0.7958 - val_loss: 0.5224 - val_accuracy: 0.7495\n",
            "Epoch 33/50\n",
            "4500/4500 - 16s - loss: 0.4302 - accuracy: 0.7933 - val_loss: 0.5193 - val_accuracy: 0.7516\n",
            "Epoch 34/50\n",
            "4500/4500 - 16s - loss: 0.4294 - accuracy: 0.7953 - val_loss: 0.5202 - val_accuracy: 0.7466\n",
            "Epoch 35/50\n",
            "4500/4500 - 16s - loss: 0.4287 - accuracy: 0.7949 - val_loss: 0.5255 - val_accuracy: 0.7480\n",
            "Epoch 36/50\n",
            "4500/4500 - 17s - loss: 0.4294 - accuracy: 0.7952 - val_loss: 0.5298 - val_accuracy: 0.7486\n",
            "Epoch 37/50\n",
            "4500/4500 - 16s - loss: 0.4286 - accuracy: 0.7953 - val_loss: 0.5275 - val_accuracy: 0.7463\n",
            "Epoch 38/50\n",
            "4500/4500 - 16s - loss: 0.4279 - accuracy: 0.7966 - val_loss: 0.5287 - val_accuracy: 0.7472\n",
            "Epoch 39/50\n",
            "4500/4500 - 16s - loss: 0.4262 - accuracy: 0.7976 - val_loss: 0.5197 - val_accuracy: 0.7504\n",
            "Epoch 40/50\n",
            "4500/4500 - 15s - loss: 0.4258 - accuracy: 0.7964 - val_loss: 0.5273 - val_accuracy: 0.7494\n",
            "Epoch 41/50\n",
            "4500/4500 - 15s - loss: 0.4256 - accuracy: 0.7983 - val_loss: 0.5234 - val_accuracy: 0.7492\n",
            "Epoch 42/50\n",
            "4500/4500 - 15s - loss: 0.4272 - accuracy: 0.7964 - val_loss: 0.5282 - val_accuracy: 0.7478\n",
            "Epoch 43/50\n",
            "4500/4500 - 15s - loss: 0.4250 - accuracy: 0.7974 - val_loss: 0.5233 - val_accuracy: 0.7477\n",
            "Epoch 44/50\n",
            "4500/4500 - 15s - loss: 0.4255 - accuracy: 0.7979 - val_loss: 0.5210 - val_accuracy: 0.7469\n",
            "Epoch 45/50\n",
            "4500/4500 - 15s - loss: 0.4249 - accuracy: 0.7973 - val_loss: 0.5288 - val_accuracy: 0.7426\n",
            "Epoch 46/50\n",
            "4500/4500 - 15s - loss: 0.4261 - accuracy: 0.7973 - val_loss: 0.5223 - val_accuracy: 0.7486\n",
            "Epoch 47/50\n",
            "4500/4500 - 15s - loss: 0.4247 - accuracy: 0.7985 - val_loss: 0.5231 - val_accuracy: 0.7498\n",
            "Epoch 48/50\n",
            "4500/4500 - 15s - loss: 0.4235 - accuracy: 0.7982 - val_loss: 0.5246 - val_accuracy: 0.7470\n",
            "Epoch 49/50\n",
            "4500/4500 - 15s - loss: 0.4245 - accuracy: 0.7978 - val_loss: 0.5257 - val_accuracy: 0.7484\n",
            "Epoch 50/50\n",
            "4500/4500 - 15s - loss: 0.4251 - accuracy: 0.7973 - val_loss: 0.5225 - val_accuracy: 0.7468\n",
            "Training Complete\n"
          ],
          "name": "stdout"
        }
      ]
    },
    {
      "cell_type": "code",
      "metadata": {
        "colab_type": "code",
        "id": "qxju4ItJKO8F",
        "colab": {}
      },
      "source": [
        "import matplotlib.image  as mpimg\n",
        "import matplotlib.pyplot as plt\n",
        "\n",
        "#-----------------------------------------------------------\n",
        "# Retrieve a list of list results on training and test data\n",
        "# sets for each training epoch\n",
        "#-----------------------------------------------------------\n",
        "acc=history.history['accuracy']\n",
        "val_acc=history.history['val_accuracy']\n",
        "loss=history.history['loss']\n",
        "val_loss=history.history['val_loss']\n",
        "\n",
        "epochs=range(len(acc)) # Get number of epochs\n",
        "\n",
        "#------------------------------------------------\n",
        "# Plot training and validation accuracy per epoch\n",
        "#------------------------------------------------\n",
        "plt.plot(epochs, acc, 'r')\n",
        "plt.plot(epochs, val_acc, 'b')\n",
        "plt.title('Training and validation accuracy')\n",
        "plt.xlabel(\"Epochs\")\n",
        "plt.ylabel(\"Accuracy\")\n",
        "plt.legend([\"Accuracy\", \"Validation Accuracy\"])\n",
        "\n",
        "plt.figure()\n",
        "\n",
        "#------------------------------------------------\n",
        "# Plot training and validation loss per epoch\n",
        "#------------------------------------------------\n",
        "plt.plot(epochs, loss, 'r')\n",
        "plt.plot(epochs, val_loss, 'b')\n",
        "plt.title('Training and validation loss')\n",
        "plt.xlabel(\"Epochs\")\n",
        "plt.ylabel(\"Loss\")\n",
        "plt.legend([\"Loss\", \"Validation Loss\"])\n",
        "\n",
        "plt.figure()\n",
        "\n",
        "\n",
        "# Expected Output\n",
        "# A chart where the validation loss does not increase sharply!"
      ],
      "execution_count": null,
      "outputs": []
    }
  ]
}