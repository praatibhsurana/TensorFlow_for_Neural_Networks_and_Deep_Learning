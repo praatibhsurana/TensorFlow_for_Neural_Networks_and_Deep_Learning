{
  "nbformat": 4,
  "nbformat_minor": 0,
  "metadata": {
    "accelerator": "GPU",
    "colab": {
      "name": "NLP_Week4_Exercise_Shakespeare_Question.ipynb",
      "provenance": []
    },
    "kernelspec": {
      "display_name": "Python 3",
      "name": "python3"
    }
  },
  "cells": [
    {
      "cell_type": "code",
      "metadata": {
        "id": "zX4Kg8DUTKWO",
        "colab_type": "code",
        "colab": {}
      },
      "source": [
        "#@title Licensed under the Apache License, Version 2.0 (the \"License\");\n",
        "# you may not use this file except in compliance with the License.\n",
        "# You may obtain a copy of the License at\n",
        "#\n",
        "# https://www.apache.org/licenses/LICENSE-2.0\n",
        "#\n",
        "# Unless required by applicable law or agreed to in writing, software\n",
        "# distributed under the License is distributed on an \"AS IS\" BASIS,\n",
        "# WITHOUT WARRANTIES OR CONDITIONS OF ANY KIND, either express or implied.\n",
        "# See the License for the specific language governing permissions and\n",
        "# limitations under the License."
      ],
      "execution_count": null,
      "outputs": []
    },
    {
      "cell_type": "code",
      "metadata": {
        "colab_type": "code",
        "id": "BOwsuGQQY9OL",
        "colab": {}
      },
      "source": [
        "from tensorflow.keras.preprocessing.sequence import pad_sequences\n",
        "from tensorflow.keras.layers import Embedding, LSTM, Dense, Dropout, Bidirectional\n",
        "from tensorflow.keras.preprocessing.text import Tokenizer\n",
        "from tensorflow.keras.models import Sequential\n",
        "from tensorflow.keras.optimizers import Adam\n",
        "from tensorflow.keras import regularizers\n",
        "\n",
        "import tensorflow.keras.utils as ku \n",
        "import numpy as np "
      ],
      "execution_count": 1,
      "outputs": []
    },
    {
      "cell_type": "code",
      "metadata": {
        "colab_type": "code",
        "id": "PRnDnCW-Z7qv",
        "colab": {
          "base_uri": "https://localhost:8080/",
          "height": 208
        },
        "outputId": "ce42d48d-4210-4834-c082-46071ce9c922"
      },
      "source": [
        "tokenizer = Tokenizer()\n",
        "!wget --no-check-certificate \\\n",
        "    https://storage.googleapis.com/laurencemoroney-blog.appspot.com/sonnets.txt \\\n",
        "    -O /tmp/sonnets.txt\n",
        "data = open('/tmp/sonnets.txt').read()\n",
        "\n",
        "corpus = data.lower().split(\"\\n\")\n",
        "\n",
        "# Tokenizing words\n",
        "tokenizer.fit_on_texts(corpus)\n",
        "total_words = len(tokenizer.word_index) + 1\n",
        "\n",
        "# create input sequences using list of tokens\n",
        "input_sequences = []\n",
        "for line in corpus: # Iterating through sentences\n",
        "\ttoken_list = tokenizer.texts_to_sequences([line])[0]\n",
        "\tfor i in range(1, len(token_list)):\n",
        "\t\tn_gram_sequence = token_list[:i+1] # Generating sequences of length 1,2,3...n\n",
        "\t\tinput_sequences.append(n_gram_sequence) # Appending generated sequences to list\n",
        "\n",
        "\n",
        "# pad sequences \n",
        "max_sequence_len = max([len(x) for x in input_sequences])\n",
        "input_sequences = np.array(pad_sequences(input_sequences, maxlen=max_sequence_len, padding='pre'))\n",
        "\n",
        "# create predictors and label\n",
        "predictors, label = input_sequences[:,:-1],input_sequences[:,-1]\n",
        "\n",
        "label = ku.to_categorical(label, num_classes=total_words)"
      ],
      "execution_count": 2,
      "outputs": [
        {
          "output_type": "stream",
          "text": [
            "--2020-06-27 18:38:15--  https://storage.googleapis.com/laurencemoroney-blog.appspot.com/sonnets.txt\n",
            "Resolving storage.googleapis.com (storage.googleapis.com)... 108.177.126.128, 172.217.218.128, 173.194.69.128, ...\n",
            "Connecting to storage.googleapis.com (storage.googleapis.com)|108.177.126.128|:443... connected.\n",
            "HTTP request sent, awaiting response... 200 OK\n",
            "Length: 93578 (91K) [text/plain]\n",
            "Saving to: ‘/tmp/sonnets.txt’\n",
            "\n",
            "\r/tmp/sonnets.txt      0%[                    ]       0  --.-KB/s               \r/tmp/sonnets.txt    100%[===================>]  91.38K  --.-KB/s    in 0.001s  \n",
            "\n",
            "2020-06-27 18:38:15 (110 MB/s) - ‘/tmp/sonnets.txt’ saved [93578/93578]\n",
            "\n"
          ],
          "name": "stdout"
        }
      ]
    },
    {
      "cell_type": "code",
      "metadata": {
        "colab_type": "code",
        "id": "w9vH8Y59ajYL",
        "colab": {
          "base_uri": "https://localhost:8080/",
          "height": 381
        },
        "outputId": "d38d3ac0-ca46-4ba0-8b04-0bb9d058bdc8"
      },
      "source": [
        "model = Sequential()\n",
        "model.add(Embedding(total_words, 100, input_length = max_sequence_len-1))\n",
        "model.add(Bidirectional(LSTM(150, return_sequences = True)))\n",
        "model.add(Dropout(0.3))\n",
        "model.add(Bidirectional(LSTM(100)))\n",
        "model.add(Dense(total_words/2, activation='relu', kernel_regularizer=regularizers.l2(0.01)))\n",
        "model.add(Dense(total_words, activation='softmax'))\n",
        "\n",
        "model.compile(loss='categorical_crossentropy', optimizer='adam', metrics=['accuracy'])\n",
        "print(model.summary())\n"
      ],
      "execution_count": 3,
      "outputs": [
        {
          "output_type": "stream",
          "text": [
            "Model: \"sequential\"\n",
            "_________________________________________________________________\n",
            "Layer (type)                 Output Shape              Param #   \n",
            "=================================================================\n",
            "embedding (Embedding)        (None, 10, 100)           321100    \n",
            "_________________________________________________________________\n",
            "bidirectional (Bidirectional (None, 10, 300)           301200    \n",
            "_________________________________________________________________\n",
            "dropout (Dropout)            (None, 10, 300)           0         \n",
            "_________________________________________________________________\n",
            "bidirectional_1 (Bidirection (None, 200)               320800    \n",
            "_________________________________________________________________\n",
            "dense (Dense)                (None, 1605)              322605    \n",
            "_________________________________________________________________\n",
            "dense_1 (Dense)              (None, 3211)              5156866   \n",
            "=================================================================\n",
            "Total params: 6,422,571\n",
            "Trainable params: 6,422,571\n",
            "Non-trainable params: 0\n",
            "_________________________________________________________________\n",
            "None\n"
          ],
          "name": "stdout"
        }
      ]
    },
    {
      "cell_type": "code",
      "metadata": {
        "colab_type": "code",
        "id": "AIg2f1HBxqof",
        "colab": {
          "base_uri": "https://localhost:8080/",
          "height": 1000
        },
        "outputId": "752f3214-5f53-4d8a-cef7-808ca071d279"
      },
      "source": [
        " history = model.fit(predictors, label, epochs=100, verbose=1)"
      ],
      "execution_count": 4,
      "outputs": [
        {
          "output_type": "stream",
          "text": [
            "Epoch 1/100\n",
            "484/484 [==============================] - 7s 14ms/step - loss: 6.9814 - accuracy: 0.0229\n",
            "Epoch 2/100\n",
            "484/484 [==============================] - 7s 14ms/step - loss: 6.5112 - accuracy: 0.0230\n",
            "Epoch 3/100\n",
            "484/484 [==============================] - 6s 13ms/step - loss: 6.4084 - accuracy: 0.0246\n",
            "Epoch 4/100\n",
            "484/484 [==============================] - 7s 14ms/step - loss: 6.2876 - accuracy: 0.0290\n",
            "Epoch 5/100\n",
            "484/484 [==============================] - 7s 13ms/step - loss: 6.1738 - accuracy: 0.0353\n",
            "Epoch 6/100\n",
            "484/484 [==============================] - 7s 14ms/step - loss: 6.0710 - accuracy: 0.0402\n",
            "Epoch 7/100\n",
            "484/484 [==============================] - 7s 13ms/step - loss: 5.9700 - accuracy: 0.0419\n",
            "Epoch 8/100\n",
            "484/484 [==============================] - 6s 13ms/step - loss: 5.8568 - accuracy: 0.0465\n",
            "Epoch 9/100\n",
            "484/484 [==============================] - 6s 13ms/step - loss: 5.7346 - accuracy: 0.0572\n",
            "Epoch 10/100\n",
            "484/484 [==============================] - 7s 14ms/step - loss: 5.6100 - accuracy: 0.0623\n",
            "Epoch 11/100\n",
            "484/484 [==============================] - 7s 13ms/step - loss: 5.4892 - accuracy: 0.0687\n",
            "Epoch 12/100\n",
            "484/484 [==============================] - 7s 14ms/step - loss: 5.3799 - accuracy: 0.0756\n",
            "Epoch 13/100\n",
            "484/484 [==============================] - 7s 15ms/step - loss: 5.2718 - accuracy: 0.0815\n",
            "Epoch 14/100\n",
            "484/484 [==============================] - 7s 14ms/step - loss: 5.1571 - accuracy: 0.0935\n",
            "Epoch 15/100\n",
            "484/484 [==============================] - 6s 13ms/step - loss: 5.0509 - accuracy: 0.0986\n",
            "Epoch 16/100\n",
            "484/484 [==============================] - 7s 14ms/step - loss: 4.9435 - accuracy: 0.1089\n",
            "Epoch 17/100\n",
            "484/484 [==============================] - 7s 14ms/step - loss: 4.8373 - accuracy: 0.1174\n",
            "Epoch 18/100\n",
            "484/484 [==============================] - 7s 14ms/step - loss: 4.7421 - accuracy: 0.1255\n",
            "Epoch 19/100\n",
            "484/484 [==============================] - 7s 14ms/step - loss: 4.6364 - accuracy: 0.1339\n",
            "Epoch 20/100\n",
            "484/484 [==============================] - 6s 13ms/step - loss: 4.5303 - accuracy: 0.1441\n",
            "Epoch 21/100\n",
            "484/484 [==============================] - 7s 14ms/step - loss: 4.4294 - accuracy: 0.1542\n",
            "Epoch 22/100\n",
            "484/484 [==============================] - 7s 14ms/step - loss: 4.3277 - accuracy: 0.1634\n",
            "Epoch 23/100\n",
            "484/484 [==============================] - 7s 14ms/step - loss: 4.2216 - accuracy: 0.1793\n",
            "Epoch 24/100\n",
            "484/484 [==============================] - 7s 14ms/step - loss: 4.1235 - accuracy: 0.1920\n",
            "Epoch 25/100\n",
            "484/484 [==============================] - 7s 14ms/step - loss: 4.0171 - accuracy: 0.2013\n",
            "Epoch 26/100\n",
            "484/484 [==============================] - 7s 13ms/step - loss: 3.9210 - accuracy: 0.2211\n",
            "Epoch 27/100\n",
            "484/484 [==============================] - 7s 13ms/step - loss: 3.8272 - accuracy: 0.2330\n",
            "Epoch 28/100\n",
            "484/484 [==============================] - 7s 13ms/step - loss: 3.7312 - accuracy: 0.2570\n",
            "Epoch 29/100\n",
            "484/484 [==============================] - 7s 14ms/step - loss: 3.6354 - accuracy: 0.2718\n",
            "Epoch 30/100\n",
            "484/484 [==============================] - 7s 14ms/step - loss: 3.5469 - accuracy: 0.2914\n",
            "Epoch 31/100\n",
            "484/484 [==============================] - 7s 13ms/step - loss: 3.4582 - accuracy: 0.3064\n",
            "Epoch 32/100\n",
            "484/484 [==============================] - 7s 13ms/step - loss: 3.3707 - accuracy: 0.3258\n",
            "Epoch 33/100\n",
            "484/484 [==============================] - 6s 13ms/step - loss: 3.2864 - accuracy: 0.3452\n",
            "Epoch 34/100\n",
            "484/484 [==============================] - 7s 14ms/step - loss: 3.2106 - accuracy: 0.3608\n",
            "Epoch 35/100\n",
            "484/484 [==============================] - 7s 14ms/step - loss: 3.1281 - accuracy: 0.3779\n",
            "Epoch 36/100\n",
            "484/484 [==============================] - 7s 14ms/step - loss: 3.0635 - accuracy: 0.3976\n",
            "Epoch 37/100\n",
            "484/484 [==============================] - 7s 14ms/step - loss: 2.9851 - accuracy: 0.4144\n",
            "Epoch 38/100\n",
            "484/484 [==============================] - 7s 14ms/step - loss: 2.9151 - accuracy: 0.4290\n",
            "Epoch 39/100\n",
            "484/484 [==============================] - 7s 15ms/step - loss: 2.8492 - accuracy: 0.4405\n",
            "Epoch 40/100\n",
            "484/484 [==============================] - 7s 14ms/step - loss: 2.7861 - accuracy: 0.4555\n",
            "Epoch 41/100\n",
            "484/484 [==============================] - 7s 14ms/step - loss: 2.7204 - accuracy: 0.4701\n",
            "Epoch 42/100\n",
            "484/484 [==============================] - 7s 14ms/step - loss: 2.6609 - accuracy: 0.4843\n",
            "Epoch 43/100\n",
            "484/484 [==============================] - 7s 14ms/step - loss: 2.6020 - accuracy: 0.4983\n",
            "Epoch 44/100\n",
            "484/484 [==============================] - 7s 14ms/step - loss: 2.5484 - accuracy: 0.5081\n",
            "Epoch 45/100\n",
            "484/484 [==============================] - 7s 14ms/step - loss: 2.4805 - accuracy: 0.5263\n",
            "Epoch 46/100\n",
            "484/484 [==============================] - 7s 14ms/step - loss: 2.4347 - accuracy: 0.5382\n",
            "Epoch 47/100\n",
            "484/484 [==============================] - 7s 14ms/step - loss: 2.3850 - accuracy: 0.5471\n",
            "Epoch 48/100\n",
            "484/484 [==============================] - 7s 14ms/step - loss: 2.3394 - accuracy: 0.5596\n",
            "Epoch 49/100\n",
            "484/484 [==============================] - 7s 14ms/step - loss: 2.2970 - accuracy: 0.5706\n",
            "Epoch 50/100\n",
            "484/484 [==============================] - 7s 14ms/step - loss: 2.2494 - accuracy: 0.5823\n",
            "Epoch 51/100\n",
            "484/484 [==============================] - 7s 14ms/step - loss: 2.1940 - accuracy: 0.5932\n",
            "Epoch 52/100\n",
            "484/484 [==============================] - 7s 14ms/step - loss: 2.1569 - accuracy: 0.5989\n",
            "Epoch 53/100\n",
            "484/484 [==============================] - 7s 14ms/step - loss: 2.1242 - accuracy: 0.6097\n",
            "Epoch 54/100\n",
            "484/484 [==============================] - 7s 14ms/step - loss: 2.0834 - accuracy: 0.6185\n",
            "Epoch 55/100\n",
            "484/484 [==============================] - 7s 14ms/step - loss: 2.0384 - accuracy: 0.6284\n",
            "Epoch 56/100\n",
            "484/484 [==============================] - 7s 14ms/step - loss: 2.0071 - accuracy: 0.6355\n",
            "Epoch 57/100\n",
            "484/484 [==============================] - 7s 14ms/step - loss: 1.9693 - accuracy: 0.6425\n",
            "Epoch 58/100\n",
            "484/484 [==============================] - 7s 14ms/step - loss: 1.9422 - accuracy: 0.6469\n",
            "Epoch 59/100\n",
            "484/484 [==============================] - 8s 16ms/step - loss: 1.8969 - accuracy: 0.6570\n",
            "Epoch 60/100\n",
            "484/484 [==============================] - 7s 15ms/step - loss: 1.8905 - accuracy: 0.6581\n",
            "Epoch 61/100\n",
            "484/484 [==============================] - 7s 14ms/step - loss: 1.8512 - accuracy: 0.6675\n",
            "Epoch 62/100\n",
            "484/484 [==============================] - 7s 14ms/step - loss: 1.8313 - accuracy: 0.6709\n",
            "Epoch 63/100\n",
            "484/484 [==============================] - 7s 14ms/step - loss: 1.7936 - accuracy: 0.6805\n",
            "Epoch 64/100\n",
            "484/484 [==============================] - 7s 14ms/step - loss: 1.7489 - accuracy: 0.6922\n",
            "Epoch 65/100\n",
            "484/484 [==============================] - 7s 14ms/step - loss: 1.7271 - accuracy: 0.6967\n",
            "Epoch 66/100\n",
            "484/484 [==============================] - 7s 14ms/step - loss: 1.7059 - accuracy: 0.6951\n",
            "Epoch 67/100\n",
            "484/484 [==============================] - 7s 14ms/step - loss: 1.6761 - accuracy: 0.7064\n",
            "Epoch 68/100\n",
            "484/484 [==============================] - 7s 14ms/step - loss: 1.6583 - accuracy: 0.7051\n",
            "Epoch 69/100\n",
            "484/484 [==============================] - 7s 14ms/step - loss: 1.6223 - accuracy: 0.7177\n",
            "Epoch 70/100\n",
            "484/484 [==============================] - 7s 14ms/step - loss: 1.6083 - accuracy: 0.7172\n",
            "Epoch 71/100\n",
            "484/484 [==============================] - 7s 14ms/step - loss: 1.5907 - accuracy: 0.7212\n",
            "Epoch 72/100\n",
            "484/484 [==============================] - 7s 14ms/step - loss: 1.5802 - accuracy: 0.7253\n",
            "Epoch 73/100\n",
            "484/484 [==============================] - 7s 14ms/step - loss: 1.5649 - accuracy: 0.7233\n",
            "Epoch 74/100\n",
            "484/484 [==============================] - 7s 14ms/step - loss: 1.5266 - accuracy: 0.7327\n",
            "Epoch 75/100\n",
            "484/484 [==============================] - 7s 14ms/step - loss: 1.4983 - accuracy: 0.7386\n",
            "Epoch 76/100\n",
            "484/484 [==============================] - 7s 14ms/step - loss: 1.4746 - accuracy: 0.7438\n",
            "Epoch 77/100\n",
            "484/484 [==============================] - 7s 14ms/step - loss: 1.4663 - accuracy: 0.7478\n",
            "Epoch 78/100\n",
            "484/484 [==============================] - 7s 14ms/step - loss: 1.4724 - accuracy: 0.7443\n",
            "Epoch 79/100\n",
            "484/484 [==============================] - 7s 14ms/step - loss: 1.4422 - accuracy: 0.7503\n",
            "Epoch 80/100\n",
            "484/484 [==============================] - 7s 14ms/step - loss: 1.4118 - accuracy: 0.7550\n",
            "Epoch 81/100\n",
            "484/484 [==============================] - 7s 14ms/step - loss: 1.4165 - accuracy: 0.7519\n",
            "Epoch 82/100\n",
            "484/484 [==============================] - 7s 14ms/step - loss: 1.4000 - accuracy: 0.7566\n",
            "Epoch 83/100\n",
            "484/484 [==============================] - 7s 14ms/step - loss: 1.3853 - accuracy: 0.7603\n",
            "Epoch 84/100\n",
            "484/484 [==============================] - 7s 14ms/step - loss: 1.3443 - accuracy: 0.7698\n",
            "Epoch 85/100\n",
            "484/484 [==============================] - 7s 14ms/step - loss: 1.3514 - accuracy: 0.7649\n",
            "Epoch 86/100\n",
            "484/484 [==============================] - 7s 14ms/step - loss: 1.3329 - accuracy: 0.7711\n",
            "Epoch 87/100\n",
            "484/484 [==============================] - 7s 14ms/step - loss: 1.3066 - accuracy: 0.7754\n",
            "Epoch 88/100\n",
            "484/484 [==============================] - 7s 14ms/step - loss: 1.3173 - accuracy: 0.7709\n",
            "Epoch 89/100\n",
            "484/484 [==============================] - 7s 14ms/step - loss: 1.3054 - accuracy: 0.7697\n",
            "Epoch 90/100\n",
            "484/484 [==============================] - 7s 14ms/step - loss: 1.2860 - accuracy: 0.7755\n",
            "Epoch 91/100\n",
            "484/484 [==============================] - 7s 14ms/step - loss: 1.2749 - accuracy: 0.7785\n",
            "Epoch 92/100\n",
            "484/484 [==============================] - 7s 14ms/step - loss: 1.2501 - accuracy: 0.7842\n",
            "Epoch 93/100\n",
            "484/484 [==============================] - 7s 14ms/step - loss: 1.2399 - accuracy: 0.7823\n",
            "Epoch 94/100\n",
            "484/484 [==============================] - 7s 14ms/step - loss: 1.2476 - accuracy: 0.7857\n",
            "Epoch 95/100\n",
            "484/484 [==============================] - 7s 14ms/step - loss: 1.2260 - accuracy: 0.7866\n",
            "Epoch 96/100\n",
            "484/484 [==============================] - 7s 14ms/step - loss: 1.2255 - accuracy: 0.7845\n",
            "Epoch 97/100\n",
            "484/484 [==============================] - 7s 14ms/step - loss: 1.2060 - accuracy: 0.7916\n",
            "Epoch 98/100\n",
            "484/484 [==============================] - 7s 14ms/step - loss: 1.2119 - accuracy: 0.7883\n",
            "Epoch 99/100\n",
            "484/484 [==============================] - 7s 14ms/step - loss: 1.2065 - accuracy: 0.7868\n",
            "Epoch 100/100\n",
            "484/484 [==============================] - 7s 14ms/step - loss: 1.1920 - accuracy: 0.7917\n"
          ],
          "name": "stdout"
        }
      ]
    },
    {
      "cell_type": "code",
      "metadata": {
        "colab_type": "code",
        "id": "1fXTEO3GJ282",
        "colab": {
          "base_uri": "https://localhost:8080/",
          "height": 545
        },
        "outputId": "e3015983-eb89-4bd9-8ad3-7b5df502bd21"
      },
      "source": [
        "import matplotlib.pyplot as plt\n",
        "acc = history.history['accuracy']\n",
        "loss = history.history['loss']\n",
        "\n",
        "epochs = range(len(acc))\n",
        "\n",
        "plt.plot(epochs, acc, 'b', label='Training accuracy')\n",
        "plt.title('Training accuracy')\n",
        "\n",
        "plt.figure()\n",
        "\n",
        "plt.plot(epochs, loss, 'b', label='Training Loss')\n",
        "plt.title('Training loss')\n",
        "plt.legend()\n",
        "\n",
        "plt.show()"
      ],
      "execution_count": 5,
      "outputs": [
        {
          "output_type": "display_data",
          "data": {
            "image/png": "[encoded data removed]",
            "text/plain": [
              "<Figure size 432x288 with 1 Axes>"
            ]
          },
          "metadata": {
            "tags": [],
            "needs_background": "light"
          }
        },
        {
          "output_type": "display_data",
          "data": {
            "image/png": "[encoded data removed]",
            "text/plain": [
              "<Figure size 432x288 with 1 Axes>"
            ]
          },
          "metadata": {
            "tags": [],
            "needs_background": "light"
          }
        }
      ]
    },
    {
      "cell_type": "code",
      "metadata": {
        "colab_type": "code",
        "id": "6Vc6PHgxa6Hm",
        "colab": {
          "base_uri": "https://localhost:8080/",
          "height": 55
        },
        "outputId": "994411b0-74b8-4748-8a84-dd51293c1bb9"
      },
      "source": [
        "seed_text = \"Help me Obi Wan Kenobi, you're my only hope\"\n",
        "next_words = 50\n",
        "  \n",
        "for _ in range(next_words):\n",
        "\ttoken_list = tokenizer.texts_to_sequences([seed_text])[0]\n",
        "\ttoken_list = pad_sequences([token_list], maxlen=max_sequence_len-1, padding='pre')\n",
        "\tpredicted = model.predict_classes(token_list, verbose=0)\n",
        "\toutput_word = \"\"\n",
        "\tfor word, index in tokenizer.word_index.items():\n",
        "\t\tif index == predicted:\n",
        "\t\t\toutput_word = word\n",
        "\t\t\tbreak\n",
        "\tseed_text += \" \" + output_word \n",
        "print(seed_text)"
      ],
      "execution_count": 8,
      "outputs": [
        {
          "output_type": "stream",
          "text": [
            "Help me Obi Wan Kenobi, you're my only hope thy line gives truly rare ' doth shown ' in blot your place another pride they bear day another pride away me she hour spite of single ' must grew black perpetual common thing in thee now thee have down seen days twain done none in thee and thee still\n"
          ],
          "name": "stdout"
        }
      ]
    }
  ]
}